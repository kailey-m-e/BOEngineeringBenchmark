{
 "cells": [
  {
   "cell_type": "markdown",
   "id": "3e2b66c8-0006-45b8-a147-abeb35ba947c",
   "metadata": {},
   "source": [
    "# PFN-Pen"
   ]
  },
  {
   "cell_type": "code",
   "execution_count": 1,
   "id": "8495a2ad-6bdf-469d-9ebc-0d7981c1feab",
   "metadata": {},
   "outputs": [],
   "source": [
    "import torch\n",
    "import numpy as np\n",
    "\n",
    "import pfns4bo\n",
    "from pfns4bo.scripts.acquisition_functions import TransformerBOMethod\n",
    "\n",
    "# Select your test case\n",
    "from test_functions.Ackley2D import Ackley2D, Ackley2D_Scaling\n",
    "from PenaltyFunction import PenaltyFunction\n",
    "\n",
    "import warnings\n",
    "warnings.filterwarnings('ignore')\n",
    "\n",
    "device = torch.device(\"cpu:0\")\n",
    "dtype = torch.float32\n",
    "\n"
   ]
  },
  {
   "cell_type": "markdown",
   "id": "6a41cb52-a359-4f25-baf4-4d4cbfe85115",
   "metadata": {},
   "source": [
    "## 1. Get the PFN model"
   ]
  },
  {
   "cell_type": "code",
   "execution_count": 2,
   "id": "2c20f704-b3d5-4079-ac0d-1c4e66217de8",
   "metadata": {},
   "outputs": [],
   "source": [
    "# Load PFN\n",
    "model_name = 'pfns4bo/final_models/model_hebo_morebudget_9_unused_features_3.pt'\n",
    "PFN = TransformerBOMethod(torch.load(model_name), device=device)"
   ]
  },
  {
   "cell_type": "markdown",
   "id": "399ce223-c8d4-4646-9bb8-3a1748e16dc1",
   "metadata": {},
   "source": [
    "## 2. PFN-Pen Bayesian Optimization "
   ]
  },
  {
   "cell_type": "code",
   "execution_count": 3,
   "id": "9f819404-8ff0-4579-b724-0ffe436c2a1d",
   "metadata": {},
   "outputs": [],
   "source": [
    "# Set up constants\n",
    "N_iter = 200 # Iteration number\n",
    "rho = 1      # Initial rho for penalty function \n",
    "rho_scaling_factor = 1.5\n",
    "Current_BEST = -1e10   # Some arbitrary very small number\n",
    "Prev_BEST = -1e10\n",
    "COUNT = 0\n",
    "\n",
    "\n",
    "# Get initial random samples\n",
    "trained_X = torch.rand(20,2)   # Initial samples (20 samples)\n",
    "\n",
    "# Scale it to the domain of interest\n",
    "X_Scaled = Ackley2D_Scaling(trained_X)\n",
    "\n",
    "# Get the constraints and objective\n",
    "trained_gx,trained_Y = Ackley2D(X_Scaled)"
   ]
  },
  {
   "cell_type": "code",
   "execution_count": 4,
   "id": "b39487ac-a379-4992-9b82-866e2c2d936f",
   "metadata": {},
   "outputs": [
    {
     "name": "stdout",
     "output_type": "stream",
     "text": [
      "Best feasible value: -2.655869483947754\n"
     ]
    }
   ],
   "source": [
    "\n",
    "for ii in range(N_iter):\n",
    "\n",
    "    # (0) Get the updated data for this iteration\n",
    "    X_scaled = Ackley2D_Scaling(trained_X)\n",
    "    trained_gx, trained_Y = Ackley2D(X_scaled)\n",
    "\n",
    "    # (1) Randomly sample Xpen \n",
    "    X_pen = torch.rand(1000,trained_X.shape[1])\n",
    "\n",
    "    # (2) Penalty Function\n",
    "    PFfx = PenaltyFunction(trained_gx, trained_Y, rho)\n",
    "\n",
    "    # (3) PFN inference phase with EI\n",
    "    rec_idx, acq_ei = PFN.observe_and_suggest(X_obs=trained_X, y_obs=PFfx, X_pen=X_pen, return_actual_ei=True)\n",
    "\n",
    "    # (4) Get the next search value\n",
    "    best_candidate = X_pen[rec_idx,:].unsqueeze(0)\n",
    "\n",
    "    # (5) Append the next search point\n",
    "    trained_X = torch.cat([trained_X, best_candidate])\n",
    "\n",
    "    Current_X = Ackley2D_Scaling(trained_X)\n",
    "    Current_GX, Current_Y = Ackley2D(Current_X)\n",
    "\n",
    "\n",
    "    # (6) Updating the rho for penalty function\n",
    "    if ((Current_GX<=0).all(dim=1)).any():\n",
    "        Current_BEST = torch.max(Current_Y[(Current_GX<=0).all(dim=1)])\n",
    "    else:\n",
    "        Current_BEST = Prev_BEST\n",
    "\n",
    "    if Current_BEST <= Prev_BEST:\n",
    "            COUNT += 1\n",
    "    if COUNT >= 5:\n",
    "        rho = rho*rho_scaling_factor\n",
    "        COUNT = 0\n",
    "        \n",
    "    Prev_BEST = Current_BEST \n",
    "\n",
    "\n",
    "print( 'Best feasible value: {v}'.format(v=Current_BEST) )\n",
    "\n",
    "\n"
   ]
  },
  {
   "cell_type": "code",
   "execution_count": null,
   "id": "2ee6422e-e5ce-40c0-8690-78b2725bd18e",
   "metadata": {},
   "outputs": [],
   "source": []
  },
  {
   "cell_type": "code",
   "execution_count": null,
   "id": "ba917549-bae3-4a19-8ee4-00aaf6dbf5ee",
   "metadata": {},
   "outputs": [],
   "source": []
  },
  {
   "cell_type": "code",
   "execution_count": null,
   "id": "ff2a5f08-dc3c-4500-892b-7cce8b018540",
   "metadata": {},
   "outputs": [],
   "source": []
  },
  {
   "cell_type": "code",
   "execution_count": null,
   "id": "2b360daf-c544-4bc5-bfa4-20ec7c631970",
   "metadata": {},
   "outputs": [],
   "source": []
  },
  {
   "cell_type": "code",
   "execution_count": null,
   "id": "0d922101-92f5-4293-bbe3-5cf6690c907c",
   "metadata": {},
   "outputs": [],
   "source": []
  },
  {
   "cell_type": "code",
   "execution_count": null,
   "id": "a6fb76f3-02ce-4576-a191-7213463e79e5",
   "metadata": {},
   "outputs": [],
   "source": []
  },
  {
   "cell_type": "code",
   "execution_count": null,
   "id": "970ce06b-5b82-4ad8-bdbd-489d8aa7bc0d",
   "metadata": {},
   "outputs": [],
   "source": []
  },
  {
   "cell_type": "code",
   "execution_count": null,
   "id": "e5553473-e5af-423e-8aed-0b8c140d6c5a",
   "metadata": {},
   "outputs": [],
   "source": []
  }
 ],
 "metadata": {
  "kernelspec": {
   "display_name": "Python 3 (ipykernel)",
   "language": "python",
   "name": "python3"
  },
  "language_info": {
   "codemirror_mode": {
    "name": "ipython",
    "version": 3
   },
   "file_extension": ".py",
   "mimetype": "text/x-python",
   "name": "python",
   "nbconvert_exporter": "python",
   "pygments_lexer": "ipython3",
   "version": "3.11.8"
  }
 },
 "nbformat": 4,
 "nbformat_minor": 5
}
