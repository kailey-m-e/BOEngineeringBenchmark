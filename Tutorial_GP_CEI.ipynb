{
 "cells": [
  {
   "cell_type": "markdown",
   "id": "9d940a8f-19c5-48ea-ae94-c4e547b5a355",
   "metadata": {},
   "source": [
    "# GP-CEI"
   ]
  },
  {
   "cell_type": "code",
   "execution_count": 1,
   "id": "226c1943-3d17-4c81-982c-e2a46b717647",
   "metadata": {},
   "outputs": [],
   "source": [
    "import torch\n",
    "import numpy as np\n",
    "\n",
    "from botorch.models import SingleTaskGP\n",
    "from gpytorch.mlls.exact_marginal_log_likelihood import ExactMarginalLogLikelihood\n",
    "from botorch.fit import fit_gpytorch_mll\n",
    "from botorch.acquisition.analytic import ConstrainedExpectedImprovement\n",
    "from botorch.optim import optimize_acqf\n",
    "\n",
    "from GP_CEI import get_and_fit_gp, get_next_candidates_CEI\n",
    "\n",
    "# Select your test case\n",
    "from test_functions.Ackley2D import Ackley2D, Ackley2D_Scaling\n",
    "from constraint_handling.PenaltyFunction import PenaltyFunction\n",
    "\n",
    "import warnings\n",
    "warnings.filterwarnings('ignore')\n"
   ]
  },
  {
   "cell_type": "markdown",
   "id": "f4a0d8de-11c2-46b2-8a26-85018fd46ed9",
   "metadata": {},
   "source": [
    "## Bayesian Optimization "
   ]
  },
  {
   "cell_type": "code",
   "execution_count": 2,
   "id": "3d939bd6-835a-4b56-8d6f-37d7ede4ec17",
   "metadata": {},
   "outputs": [],
   "source": [
    "# Set up constants\n",
    "N_iter = 50                  # Iteration number\n",
    "rho = 1                      # Initial rho for penalty function \n",
    "rho_scaling_factor = 1.5\n",
    "Current_BEST = -1e10         # Some arbitrary very small number\n",
    "Prev_BEST = -1e10 \n",
    "COUNT = 0                    # Count for updating the scaling factor\n",
    "\n",
    "\n",
    "\n",
    "# Get initial random samples\n",
    "trained_X = torch.rand(20,2)   # Initial samples (20 samples)\n",
    "\n",
    "# Scale it to the domain of interest\n",
    "X_Scaled = Ackley2D_Scaling(trained_X)\n",
    "\n",
    "# Get the constraints and objective\n",
    "trained_gx,trained_Y = Ackley2D(X_Scaled)"
   ]
  },
  {
   "cell_type": "code",
   "execution_count": 3,
   "id": "ae8d7962-fc9e-4c47-9261-a45fb05b0dec",
   "metadata": {},
   "outputs": [
    {
     "name": "stdout",
     "output_type": "stream",
     "text": [
      "Best feasible value: -0.7679738998413086\n"
     ]
    }
   ],
   "source": [
    "\n",
    "\n",
    "# BO loop\n",
    "\n",
    "for ii in range(N_iter):\n",
    "\n",
    "    \n",
    "    # (0) Get the updated data for this iteration\n",
    "    X_scaled = Ackley2D_Scaling(trained_X)\n",
    "    trained_gx, trained_Y = Ackley2D(X_scaled)\n",
    "\n",
    "\n",
    "    \n",
    "    # (1) Confirm the best so far\n",
    "    if ((trained_gx<=0).all(dim=1)).any():\n",
    "        Current_BEST = torch.max(trained_Y[(trained_gx<=0).all(dim=1)])\n",
    "    else:\n",
    "            Current_BEST = Prev_BEST\n",
    "\n",
    "    if Current_BEST <= Prev_BEST:\n",
    "            COUNT += 1     \n",
    "    if COUNT >= 5:\n",
    "        rho = rho*rho_scaling_factor # Updating the rho for penalty function \n",
    "        COUNT = 0\n",
    "    Prev_BEST = Current_BEST \n",
    "\n",
    "    # (2) Fit the Gaussian Process and Calculate CEI\n",
    "    best_candidate = get_next_candidates_CEI(trained_X, trained_gx, trained_Y, Prev_BEST)\n",
    "    \n",
    "    # (3) Append the next search point\n",
    "    trained_X = torch.cat([trained_X, best_candidate])\n",
    "\n",
    "\n",
    "print( 'Best feasible value: {v}'.format(v=Current_BEST) )\n"
   ]
  },
  {
   "cell_type": "code",
   "execution_count": null,
   "id": "0aaaa1f0-b91a-476f-ac3d-06d97d39892b",
   "metadata": {},
   "outputs": [],
   "source": []
  },
  {
   "cell_type": "code",
   "execution_count": null,
   "id": "2aee194a-ee38-4587-8c92-5d66d9a0ac01",
   "metadata": {},
   "outputs": [],
   "source": []
  },
  {
   "cell_type": "code",
   "execution_count": null,
   "id": "047a9658-a397-48b6-add7-3e0fceac00fb",
   "metadata": {},
   "outputs": [],
   "source": []
  },
  {
   "cell_type": "code",
   "execution_count": null,
   "id": "09fa80c3-b5dc-4fdf-9bd4-447bb753f265",
   "metadata": {},
   "outputs": [],
   "source": []
  }
 ],
 "metadata": {
  "kernelspec": {
   "display_name": "Python 3 (ipykernel)",
   "language": "python",
   "name": "python3"
  },
  "language_info": {
   "codemirror_mode": {
    "name": "ipython",
    "version": 3
   },
   "file_extension": ".py",
   "mimetype": "text/x-python",
   "name": "python",
   "nbconvert_exporter": "python",
   "pygments_lexer": "ipython3",
   "version": "3.11.8"
  }
 },
 "nbformat": 4,
 "nbformat_minor": 5
}
