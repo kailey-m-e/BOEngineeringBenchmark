{
 "cells": [
  {
   "cell_type": "markdown",
   "id": "1510ed26-6d69-4084-bad0-6035d372acc8",
   "metadata": {},
   "source": [
    "# PFN-CEI+"
   ]
  },
  {
   "cell_type": "code",
   "execution_count": 1,
   "id": "0194d6ab-81c8-4ae6-be0b-32c4a2e62b19",
   "metadata": {},
   "outputs": [],
   "source": [
    "import torch\n",
    "import numpy as np\n",
    "\n",
    "import pfns4bo\n",
    "from PFN_CEI import PFNCEI_TransformerBOMethod\n",
    "\n",
    "# Select your test case\n",
    "from test_functions.Ackley2D import Ackley2D, Ackley2D_Scaling\n",
    "# from constraint_handling.PenaltyFunction import PenaltyFunction\n",
    "\n",
    "import warnings\n",
    "warnings.filterwarnings('ignore')\n",
    "\n",
    "device = torch.device(\"cpu:0\")\n",
    "dtype = torch.float32\n",
    "\n"
   ]
  },
  {
   "cell_type": "markdown",
   "id": "2784c503-05d3-40a2-a508-7013a0698f57",
   "metadata": {},
   "source": [
    "## 1. Get the PFN model"
   ]
  },
  {
   "cell_type": "code",
   "execution_count": 2,
   "id": "adfde7e3-95c0-47b4-98db-5f6aae91b43f",
   "metadata": {},
   "outputs": [],
   "source": [
    "# Load PFN\n",
    "model_name = 'pfns4bo/final_models/model_hebo_morebudget_9_unused_features_3.pt'\n",
    "\n",
    "PFN = PFNCEI_TransformerBOMethod(torch.load(model_name), device=device) # Load from our PFN-CEI method"
   ]
  },
  {
   "cell_type": "markdown",
   "id": "5ad3d037-5755-4751-9f37-ffc4e3a7914c",
   "metadata": {},
   "source": [
    "## 2. PFN-CEI+ Bayesian Optimization \n"
   ]
  },
  {
   "cell_type": "code",
   "execution_count": 3,
   "id": "a44bf08d-59a7-4622-8d54-9849c916bebd",
   "metadata": {},
   "outputs": [],
   "source": [
    "# Set up constants\n",
    "N_iter = 100 # Iteration number\n",
    "# rho = 1      # Initial rho for penalty function \n",
    "# rho_scaling_factor = 1.5\n",
    "Current_BEST = -1e10   # Some arbitrary very small number\n",
    "Prev_BEST = -1e10\n",
    "COUNT = 0\n",
    "\n",
    "\n",
    "# Get initial random samples\n",
    "trained_X = torch.rand(20,2)   # Initial samples (20 samples)\n",
    "\n",
    "# Scale it to the domain of interest\n",
    "X_Scaled = Ackley2D_Scaling(trained_X)\n",
    "\n",
    "# Get the constraints and objective\n",
    "trained_gx,trained_Y = Ackley2D(X_Scaled)"
   ]
  },
  {
   "cell_type": "markdown",
   "id": "c12de979-b972-4e70-8fea-5dbb2fe1ad03",
   "metadata": {},
   "source": [
    "## 2. PFN-CEI+ Bayesian Optimization "
   ]
  },
  {
   "cell_type": "code",
   "execution_count": 4,
   "id": "e751cdd9-dca1-4918-8238-b4f429d28e85",
   "metadata": {},
   "outputs": [
    {
     "name": "stdout",
     "output_type": "stream",
     "text": [
      "Best feasible value: -0.10515689849853516\n"
     ]
    }
   ],
   "source": [
    "\n",
    "\n",
    "for ii in range(N_iter):\n",
    "\n",
    "    # (0) Get the updated data for this iteration\n",
    "    X_scaled = Ackley2D_Scaling(trained_X)\n",
    "    trained_gx, trained_Y = Ackley2D(X_scaled)\n",
    "\n",
    "    # (1) Randomly sample Xpen \n",
    "    X_pen = torch.rand(1000,trained_X.shape[1])\n",
    "\n",
    "    # (2) PFN inference phase with EI\n",
    "    ei, p_feas = PFN.observe_and_suggest(X_obs=trained_X, y_obs=trained_Y, X_pen=X_pen, GX=trained_gx, return_actual_ei=True)\n",
    "\n",
    "    # (3) Calculating CEI+ (with threshold)\n",
    "    CEI = ei\n",
    "    for jj in range(p_feas.shape[1]):\n",
    "        CEI = CEI* torch.min( torch.cat((2*p_feas[:,jj].reshape(p_feas.shape[0],1), torch.ones(p_feas.shape[0],1)), 1) , 1).values\n",
    "\n",
    "    # (4) Get the next search value\n",
    "    rec_idx = torch.argmax(CEI)\n",
    "    best_candidate = X_pen[rec_idx,:].unsqueeze(0)\n",
    "\n",
    "    # (5) Append the next search point\n",
    "    trained_X = torch.cat([trained_X, best_candidate])\n",
    "\n",
    "    ################################################################################\n",
    "    # This is just for visualizing the best value. \n",
    "    # This section can be remove for pure optimization purpose\n",
    "    Current_X = Ackley2D_Scaling(trained_X)\n",
    "    Current_GX, Current_Y = Ackley2D(Current_X)\n",
    "    \n",
    "    if ((Current_GX<=0).all(dim=1)).any():\n",
    "        Current_BEST = torch.max(Current_Y[(Current_GX<=0).all(dim=1)])\n",
    "    else:\n",
    "        Current_BEST = Prev_BEST\n",
    "    ################################################################################\n",
    "\n",
    "print( 'Best feasible value: {v}'.format(v=Current_BEST) )\n",
    "\n",
    "\n",
    "\n"
   ]
  },
  {
   "cell_type": "code",
   "execution_count": null,
   "id": "061d115c-94f1-48ce-a4d0-0830269124e1",
   "metadata": {},
   "outputs": [],
   "source": []
  }
 ],
 "metadata": {
  "kernelspec": {
   "display_name": "Python 3 (ipykernel)",
   "language": "python",
   "name": "python3"
  },
  "language_info": {
   "codemirror_mode": {
    "name": "ipython",
    "version": 3
   },
   "file_extension": ".py",
   "mimetype": "text/x-python",
   "name": "python",
   "nbconvert_exporter": "python",
   "pygments_lexer": "ipython3",
   "version": "3.11.8"
  }
 },
 "nbformat": 4,
 "nbformat_minor": 5
}
