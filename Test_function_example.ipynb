{
 "cells": [
  {
   "cell_type": "code",
   "execution_count": 1,
   "id": "4bb22757-ebcb-47da-80dd-504254d5756b",
   "metadata": {},
   "outputs": [],
   "source": [
    "import torch\n",
    "import numpy as np"
   ]
  },
  {
   "cell_type": "markdown",
   "id": "c28a34ed-5c25-4e96-af13-6de10239ffaf",
   "metadata": {},
   "source": [
    "# The way of using the test function:\n",
    "In Bayesian Optimization for Botorch, it is required to transformed input data X in the range between 0 and 1. However, the domain of interest for the test cases are often not in this range. Therefore, the process requires scaling the X back to the domain of interest after performing BO to get the correct objective value.\n",
    "\n",
    "\n",
    "In our test function scripts, it contains the scaling function for each problem and the objective calculation function. The process of using it is shown as follow:\n",
    "1. Initialize x in [0,1]\n",
    "2. Use the scaling function to scale the x to the domain of interest\n",
    "3. Pass into the test case function to get the constraints values and the objective"
   ]
  },
  {
   "cell_type": "code",
   "execution_count": 2,
   "id": "98a473f6-ace3-438b-90dc-024b76d35432",
   "metadata": {},
   "outputs": [
    {
     "name": "stdout",
     "output_type": "stream",
     "text": [
      "tensor([[0.0227, 0.4598],\n",
      "        [0.6527, 0.8014],\n",
      "        [0.8639, 0.8178],\n",
      "        [0.7373, 0.7472],\n",
      "        [0.7691, 0.2556],\n",
      "        [0.4449, 0.8300],\n",
      "        [0.0509, 0.3364],\n",
      "        [0.6180, 0.9053],\n",
      "        [0.0164, 0.1349],\n",
      "        [0.9096, 0.3481],\n",
      "        [0.5736, 0.5184],\n",
      "        [0.0836, 0.3022],\n",
      "        [0.6346, 0.3717],\n",
      "        [0.5135, 0.9840],\n",
      "        [0.8060, 0.3734],\n",
      "        [0.2095, 0.1903],\n",
      "        [0.8411, 0.6314],\n",
      "        [0.7652, 0.6092],\n",
      "        [0.2833, 0.5461],\n",
      "        [0.0456, 0.6024]])\n"
     ]
    }
   ],
   "source": [
    "# Select your test case\n",
    "from test_functions.Ackley2D import Ackley2D, Ackley2D_Scaling\n",
    "\n",
    "# Initialized sample in the correct dimension based on the test case\n",
    "# The test case need to have X in [0,1]\n",
    "X = torch.rand(20,2)\n",
    "print(X)\n"
   ]
  },
  {
   "cell_type": "code",
   "execution_count": 3,
   "id": "7269ad89-14f8-4a13-b269-cb69a2b380a6",
   "metadata": {},
   "outputs": [
    {
     "name": "stdout",
     "output_type": "stream",
     "text": [
      "tensor([[-11.7617],\n",
      "        [-14.8471],\n",
      "        [-16.8226],\n",
      "        [-15.0416],\n",
      "        [-14.1062],\n",
      "        [-15.4325],\n",
      "        [-10.0456],\n",
      "        [-16.9552],\n",
      "        [-12.0080],\n",
      "        [-16.0302],\n",
      "        [-11.4791],\n",
      "        [-10.3865],\n",
      "        [-11.8268],\n",
      "        [-17.0520],\n",
      "        [-14.3887],\n",
      "        [ -7.4730],\n",
      "        [-16.5612],\n",
      "        [-15.1302],\n",
      "        [ -8.9436],\n",
      "        [-12.7158]])\n",
      "tensor([[-2.7627,  0.0308],\n",
      "        [11.8104,  3.4988],\n",
      "        [15.2247,  5.7766],\n",
      "        [12.2678,  3.6753],\n",
      "        [ 5.3717,  1.6401],\n",
      "        [ 9.1240,  2.6361],\n",
      "        [-4.1910, -0.7635],\n",
      "        [12.8493,  4.5832],\n",
      "        [-7.7311,  0.6094],\n",
      "        [ 8.8656,  3.6463],\n",
      "        [ 6.3792, -0.4514],\n",
      "        [-4.2132, -1.2251],\n",
      "        [ 5.0938, -0.4448],\n",
      "        [12.4624,  5.1271],\n",
      "        [ 7.6916,  2.1160],\n",
      "        [-4.0026, -2.1624],\n",
      "        [12.0883,  3.8323],\n",
      "        [10.6153,  2.6864],\n",
      "        [ 2.4418, -1.7210],\n",
      "        [-0.2793,  0.9093]])\n"
     ]
    }
   ],
   "source": [
    "# Scale the X in [0,1] to the domain of interest\n",
    "X_scaled = Ackley2D_Scaling(X)\n",
    "\n",
    "# The test case output the gx (constaint) and fx (objective)\n",
    "gx, fx = Ackley2D(X_scaled)\n",
    "print(fx)\n",
    "print(gx)"
   ]
  },
  {
   "cell_type": "code",
   "execution_count": null,
   "id": "d1ce297a-8295-4d51-a077-1efecf937768",
   "metadata": {},
   "outputs": [],
   "source": []
  }
 ],
 "metadata": {
  "kernelspec": {
   "display_name": "Python 3 (ipykernel)",
   "language": "python",
   "name": "python3"
  },
  "language_info": {
   "codemirror_mode": {
    "name": "ipython",
    "version": 3
   },
   "file_extension": ".py",
   "mimetype": "text/x-python",
   "name": "python",
   "nbconvert_exporter": "python",
   "pygments_lexer": "ipython3",
   "version": "3.11.8"
  }
 },
 "nbformat": 4,
 "nbformat_minor": 5
}
