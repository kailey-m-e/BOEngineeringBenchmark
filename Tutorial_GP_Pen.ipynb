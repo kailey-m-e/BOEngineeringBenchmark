{
 "cells": [
  {
   "cell_type": "markdown",
   "id": "2dbbe82f-57e6-48d7-a5d8-70a5ff59d906",
   "metadata": {},
   "source": [
    "# GP-Pen"
   ]
  },
  {
   "cell_type": "code",
   "execution_count": 1,
   "id": "befb55e2-0f8d-4f79-b8c3-37e159f216dc",
   "metadata": {},
   "outputs": [],
   "source": [
    "import torch\n",
    "import numpy as np\n",
    "\n",
    "from botorch.models import SingleTaskGP\n",
    "from gpytorch.mlls.exact_marginal_log_likelihood import ExactMarginalLogLikelihood\n",
    "from botorch.fit import fit_gpytorch_mll\n",
    "from botorch.acquisition.analytic import ExpectedImprovement\n",
    "from botorch.optim import optimize_acqf\n",
    "\n",
    "from GP_Pen import get_and_fit_gp, get_next_candidates\n",
    "\n",
    "\n",
    "# Select your test case\n",
    "from test_functions.Ackley2D import Ackley2D, Ackley2D_Scaling\n",
    "from PenaltyFunction import PenaltyFunction\n",
    "\n",
    "import warnings\n",
    "warnings.filterwarnings('ignore')\n",
    "\n"
   ]
  },
  {
   "cell_type": "markdown",
   "id": "831e8e1f-9174-469d-8931-b4568257b435",
   "metadata": {},
   "source": [
    "## Bayesian Optimization "
   ]
  },
  {
   "cell_type": "code",
   "execution_count": 2,
   "id": "148af2fe-9902-42c8-a5e7-b5e65844cbd8",
   "metadata": {},
   "outputs": [],
   "source": [
    "# Set up constants\n",
    "N_iter = 50                  # Iteration number\n",
    "rho = 1                      # Initial rho for penalty function \n",
    "rho_scaling_factor = 1.5\n",
    "Current_BEST = -1e10         # Some arbitrary very small number\n",
    "Prev_BEST = -1e10 \n",
    "COUNT = 0                    # Count for updating the scaling factor\n",
    "\n",
    "\n",
    "\n",
    "# Get initial random samples\n",
    "trained_X = torch.rand(20,2)   # Initial samples (20 samples)\n",
    "\n",
    "# Scale it to the domain of interest\n",
    "X_Scaled = Ackley2D_Scaling(trained_X)\n",
    "\n",
    "# Get the constraints and objective\n",
    "trained_gx,trained_Y = Ackley2D(X_Scaled)\n"
   ]
  },
  {
   "cell_type": "code",
   "execution_count": 3,
   "id": "a07e4932-2496-4e82-ba73-a52230ea1a2a",
   "metadata": {},
   "outputs": [
    {
     "name": "stdout",
     "output_type": "stream",
     "text": [
      "Best feasible value: -3.148495674133301\n"
     ]
    }
   ],
   "source": [
    "\n",
    "# BO loop\n",
    "\n",
    "for ii in range(N_iter):\n",
    "\n",
    "    \n",
    "    # (0) Get the updated data for this iteration\n",
    "    X_scaled = Ackley2D_Scaling(trained_X)\n",
    "    trained_gx, trained_Y = Ackley2D(X_scaled)\n",
    "\n",
    "\n",
    "    \n",
    "    # (1) Confirm the best so far\n",
    "    if ((trained_gx<=0).all(dim=1)).any():\n",
    "        Current_BEST = torch.max(trained_Y[(trained_gx<=0).all(dim=1)])\n",
    "    else:\n",
    "            Current_BEST = Prev_BEST\n",
    "\n",
    "    if Current_BEST <= Prev_BEST:\n",
    "            COUNT += 1     \n",
    "    if COUNT >= 5:\n",
    "        rho = rho*rho_scaling_factor # Updating the rho for penalty function \n",
    "        COUNT = 0\n",
    "    Prev_BEST = Current_BEST \n",
    "\n",
    "\n",
    "    \n",
    "    # (2) Penalty Function\n",
    "    PFfx = PenaltyFunction(trained_gx, trained_Y, rho)\n",
    "\n",
    "\n",
    "    \n",
    "    # (3) Fit the Gaussian Process\n",
    "    best_candidate = get_next_candidates(trained_X, trained_gx, PFfx, Current_BEST)\n",
    "\n",
    "\n",
    "    \n",
    "    # (4) Append the next search point\n",
    "    trained_X = torch.cat([trained_X, best_candidate])\n",
    "\n",
    "\n",
    "print( 'Best feasible value: {v}'.format(v=Current_BEST) )\n"
   ]
  },
  {
   "cell_type": "code",
   "execution_count": null,
   "id": "2792e8f9-02c9-4a61-b764-81d948ad0bb9",
   "metadata": {},
   "outputs": [],
   "source": []
  }
 ],
 "metadata": {
  "kernelspec": {
   "display_name": "Python 3 (ipykernel)",
   "language": "python",
   "name": "python3"
  },
  "language_info": {
   "codemirror_mode": {
    "name": "ipython",
    "version": 3
   },
   "file_extension": ".py",
   "mimetype": "text/x-python",
   "name": "python",
   "nbconvert_exporter": "python",
   "pygments_lexer": "ipython3",
   "version": "3.11.8"
  }
 },
 "nbformat": 4,
 "nbformat_minor": 5
}
